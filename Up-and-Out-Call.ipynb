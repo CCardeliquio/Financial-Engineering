{
 "cells": [
  {
   "cell_type": "markdown",
   "id": "settled-meaning",
   "metadata": {},
   "source": [
    "### Exotic Options\n",
    "\n",
    "Exotic options are not traded on exchanges but rather on the OTC (over the counter) market.\n",
    "\n",
    "#### <span style=\"color:#22EEFF\">European Up-and-out Call Option</span>\n",
    "\n",
    "<!-- The goal of Submission 1 is to price a European up-and-out call option held with a risky counterparty. -->\n",
    "\n",
    "The payoff of this option at maturity T is as follows:\n",
    "\n",
    "$C_{uo}(S_T) = (S_T - K)^+\\;\\mathbb{1}_{\\{S_t < L\\}}$ \n",
    "\n",
    "where $K$ is the strike of the option, $L$ is the barrier level, and $S_t$ is the share price at time $t$.\n"
   ]
  },
  {
   "cell_type": "code",
   "execution_count": 2,
   "id": "productive-education",
   "metadata": {},
   "outputs": [],
   "source": [
    "import numpy as np\n",
    "import scipy.stats as stats\n",
    "\n",
    "def d1(S,K,r,sigma,tau):\n",
    "    return (np.log(S/K)+(r+sigma**2/2)*(tau))/(sigma*np.sqrt(tau)) \n",
    "def d2(S,K,r,sigma,tau):\n",
    "    return d1(S,K,r,sigma,tau) - sigma*np.sqrt(tau)\n",
    "\n",
    "def discounted_value(S,K,r,T):\n",
    "    return np.exp(-r*T)*np.maximum((S-K),0)\n",
    "\n",
    "T = 1; S = 100; K = S; L = 150; r = 0.08; sigma = 0.3; sigma2 = 0.25; rho = 0.2; t = 0; debt = 175; recovery = 0.25; V = 200;"
   ]
  },
  {
   "cell_type": "markdown",
   "id": "stretch-impression",
   "metadata": {},
   "source": [
    "There a closed-form, analytical solution for pricing an up-and-out barrier call option, as can be found in (Hull 2018).\n",
    "\n",
    "$C_{uo} = S_0 N(d_1) - Ke^{-rT}N(d_2) - S_0 N(x_1) + Ke^{(-rT} N(x_1 - \\sigma\\sqrt{T}) +$\n",
    "\n",
    "$+S_0(L/S_0)^{2\\lambda}(N(-y) - N(-y1))- Ke^{-rT}(L/S_0)^{2\\lambda-2}(N(-y+\\sigma\\sqrt{T}) -N(-y1+ \\sigma\\sqrt{T}))$\n",
    "\n",
    "where\n",
    "\n",
    "$d_1 = \\dfrac{\\ln(S_0/K) + (r-\\sigma^2/2)T}{\\sigma^2\\sqrt{T}} \\qquad d_2 = d_1 - \\sigma\\sqrt{T}$\n",
    "\n",
    "$\\lambda = \\dfrac{r+\\sigma^2/2}{\\sigma^2} \\qquad y = \\dfrac{\\ln(L^2/S_0K)}{\\sigma\\sqrt{T}}+\\lambda\\sigma\\sqrt{T}$\n",
    "\n",
    "$x_1 = \\dfrac{\\ln(S_0/L)}{\\sigma\\sqrt{T}}+\\lambda\\sigma\\sqrt{T} \\qquad y_1 = \\dfrac{\\ln(L/S_0)}{\\sigma\\sqrt(T)}+\\lambda\\sigma\\sqrt{T}$"
   ]
  },
  {
   "cell_type": "code",
   "execution_count": 3,
   "id": "seasonal-fleet",
   "metadata": {},
   "outputs": [],
   "source": [
    "def analytical_value_Call_Up_Out(S0,K,L,r,sigma,T):\n",
    "    l = (r+sigma**2/2)/(sigma**2)\n",
    "    x1 = np.log(S0/L)/(sigma*np.sqrt(T)) + l*sigma*np.sqrt(T)\n",
    "    y1 = np.log(L/S0)/(sigma*np.sqrt(T)) + l*sigma*np.sqrt(T)\n",
    "    y = np.log(L**2/(S0*K))/(sigma*np.sqrt(T)) + l*sigma*np.sqrt(T)\n",
    "    lmbd = l; Hb=L\n",
    "\n",
    "    return  S*stats.norm.cdf(d1(S,K,r,sigma,T)) - K*np.exp(-r*T)*stats.norm.cdf(d2(S,K,r,sigma,T)) - S0*stats.norm.cdf(x1) + \\\n",
    "    K*np.exp(-r*T)*stats.norm.cdf(x1 - sigma*np.sqrt(T)) + S0*(L/S0)**(2*l)*(stats.norm.cdf(-y) \\\n",
    "    - stats.norm.cdf(-y1)) - K*np.exp(-r*T)*(L/S0)**(2*l-2)*(stats.norm.cdf(-y+sigma*np.sqrt(T)) -stats.norm.cdf(-y1+ sigma*np.sqrt(T)))"
   ]
  },
  {
   "cell_type": "code",
   "execution_count": 4,
   "id": "logical-stanley",
   "metadata": {},
   "outputs": [],
   "source": [
    "np.random.seed(42)\n",
    "dt = 1/10000; upOutCall = [None]*30; sig = [None]*30; c=0\n",
    "for i in range(1,31):\n",
    "    W = np.random.randn(i*1000,int(1/dt))*sigma*np.sqrt(dt)\n",
    "    path = np.cumprod(np.exp((r-(sigma**2)/2.0)*dt+W),1)*S\n",
    "    path = np.hstack((S*np.ones((i*1000,1)),path))\n",
    "    ST = path[:,-1]\n",
    "    ST[np.max(path,axis=1)>L] = 0\n",
    "    upOutCall_val = discounted_value(ST,K,r,T)\n",
    "    upOutCall[c] = upOutCall_val.mean()\n",
    "    sig[c] = upOutCall_val.std()/np.sqrt(i*1000)\n",
    "    c+=1\n",
    "analyValue = analytical_value_Call_Up_Out(S,K,L,r,sigma,T)"
   ]
  },
  {
   "cell_type": "code",
   "execution_count": 5,
   "id": "assigned-reunion",
   "metadata": {},
   "outputs": [
    {
     "name": "stdout",
     "output_type": "stream",
     "text": [
      "Monte Carlo (dt = 1/10000): 5.35\n",
      "Analytical (dt = 1/10000): 5.313\n",
      "Error: 0.66 %\n"
     ]
    }
   ],
   "source": [
    "print('Monte Carlo (dt = 1/10000): %.2f' % np.mean(upOutCall))\n",
    "print('Analytical (dt = 1/10000): %.3f' % analyValue)\n",
    "print('Error: %.2f %%' % (100*(np.abs(np.mean(upOutCall)-analyValue)/analyValue)))"
   ]
  },
  {
   "cell_type": "code",
   "execution_count": 7,
   "id": "d2fb1b4d-6f5e-4eec-9ca8-b6a74464fff0",
   "metadata": {},
   "outputs": [],
   "source": [
    "C = S*stats.norm.cdf(d1(S,K,r,sigma,T)) - K*np.exp(-r*T)*stats.norm.cdf(d2(S,K,r,sigma,T))"
   ]
  },
  {
   "cell_type": "markdown",
   "id": "featured-ferry",
   "metadata": {},
   "source": [
    "#### <span style=\"color:#22EEFF\">Credit Valuation Adjustment (CVA)</span>"
   ]
  },
  {
   "cell_type": "code",
   "execution_count": 12,
   "id": "empty-spokesman",
   "metadata": {},
   "outputs": [
    {
     "name": "stdout",
     "output_type": "stream",
     "text": [
      "Default Free Option Value: 5.44\n",
      "Credit Valuation Adjustment: 0.76\n"
     ]
    }
   ],
   "source": [
    "from scipy.stats import norm\n",
    "np.random.seed(42)\n",
    "H = np.linalg.cholesky(np.array([[1,rho],[rho,1]]))\n",
    "\n",
    "amount_lost = [None]*2; cva_est = [None]*2\n",
    "cva_std = [None]*2; DFValue = [None]*2\n",
    "\n",
    "m = 1000\n",
    "\n",
    "dt = 1/m\n",
    "paths = np.zeros((50000,m+1))\n",
    "paths[:,0] = S\n",
    "firm_path = np.zeros((50000,m+1))\n",
    "firm_path[:,0] = V\n",
    "\n",
    "for j in range(0,m):\n",
    "    norm_matrix = np.random.normal(size=(2,50000))\n",
    "    corr_norm_matrix = np.matmul(H,norm_matrix)\n",
    "    paths[:,j+1] = paths[:,j]*np.exp((r-sigma**2/2)*dt + sigma*np.sqrt(dt)*corr_norm_matrix[0,:])\n",
    "    firm_path[:,j+1] = firm_path[:,j]*np.exp((r-sigma2**2/2)*dt + sigma2*np.sqrt(dt)*corr_norm_matrix[1,:])\n",
    "\n",
    "final_values = paths[:,-1] - K\n",
    "max_values = np.max(paths,axis=1)\n",
    "final_values[final_values < 0] = 0\n",
    "final_values[max_values >= L] = 0\n",
    "\n",
    "term_firm_val = firm_path[:,-1]\n",
    "amount_lost = np.exp(-r*T)*(1-recovery)*(term_firm_val < debt)*final_values\n",
    "cva_est = np.mean(amount_lost)\n",
    "cva_std = np.std(amount_lost)/np.sqrt(50000)\n",
    "DFValue = np.mean(final_values*np.exp(-r*T))\n",
    "    \n",
    "default_prob = stats.norm.cdf(-d2(V,debt,r,sigma,T))\n",
    "uncorr_cva = (1-recovery)*default_prob*C\n",
    "print(\"Default Free Option Value: %.2f\" % (DFValue))\n",
    "print(\"Credit Valuation Adjustment: %.2f\" % (cva_est))\n",
    "#print('\\nUncorrelated: %.3f' % uncorr_cva)"
   ]
  }
 ],
 "metadata": {
  "kernelspec": {
   "display_name": "Python 3 (ipykernel)",
   "language": "python",
   "name": "python3"
  },
  "language_info": {
   "codemirror_mode": {
    "name": "ipython",
    "version": 3
   },
   "file_extension": ".py",
   "mimetype": "text/x-python",
   "name": "python",
   "nbconvert_exporter": "python",
   "pygments_lexer": "ipython3",
   "version": "3.8.8"
  }
 },
 "nbformat": 4,
 "nbformat_minor": 5
}
