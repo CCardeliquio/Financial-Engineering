{
 "cells": [
  {
   "cell_type": "markdown",
   "id": "27258ea3-3647-4377-be75-a09a2067663a",
   "metadata": {},
   "source": [
    "### <span style=\"color:#22AACC\">Pricing European Calls and Puts</span>\n",
    "\n",
    "In this notebook, we are going to price European vanilla options (calls and puts) with different methods.\n",
    "\n",
    "- Analytical solution: The Black and Scholes Solution\n",
    "- Discrete solution: Binomial Tree\n",
    "- Numerical solution: Monte Carlo Simulation"
   ]
  },
  {
   "cell_type": "markdown",
   "id": "f34b9351-44aa-436a-b103-fff6e1221a82",
   "metadata": {},
   "source": [
    "Let us recall the solution obtained by the B&S equation:\n",
    "\n",
    "$\\begin{equation}\n",
    "C(S,T) = S_0\\Phi(d_1)-e^{-rT}K\\Phi(d_2),\n",
    "\\end{equation}$\n",
    "\n",
    "$\\begin{equation}\n",
    "P(S,T) = e^{-rT}K\\Phi(-d_2)-S_0\\Phi(-d_1),\n",
    "\\end{equation}$\n",
    "\n",
    "$\\begin{align}\n",
    "d_1 &= \\dfrac{-\\ln K+\\ln S_0 +(r+\\frac{1}{2}\\sigma^2)T}{\\sigma\\sqrt{T}},\\nonumber\\\\\n",
    "d_2 &= d_1-\\sigma\\sqrt{T}.\n",
    "\\end{align}$"
   ]
  },
  {
   "cell_type": "code",
   "execution_count": 7,
   "id": "298cc5d9-20fc-48bb-9d72-dfa74e04a753",
   "metadata": {},
   "outputs": [],
   "source": [
    "import numpy as np\n",
    "from scipy.stats import norm\n",
    "\n",
    "def vanillaBS(S, K, T, sig, r = 0, call = True):\n",
    "    d1 = ( np.log(S/K) + (r+sig**2/2)*T ) / (sig*np.sqrt(T))\n",
    "    d2 = d1 - sig*np.sqrt(T)\n",
    "    C = S*norm.cdf(d1) - np.exp(-r*T)*K*norm.cdf(d2)\n",
    "    P = -S*norm.cdf(-d1) + np.exp(-r*T)*K*norm.cdf(-d2)\n",
    "    return C if call else P\n"
   ]
  },
  {
   "cell_type": "markdown",
   "id": "48e7af90-ecf4-43f5-a93c-429c802097c0",
   "metadata": {},
   "source": [
    "In order to build a Binomial Tree, we assume that the asset can go up by an amount $u$ or down by an amount $d$, where $0 < d < 1 < u $. Furthermore let $f_u$ and $f_d$ be the premium of the option when the asset goes up and down, respectively.\n",
    "\n",
    "In order for us to have a risk-free portfolio, we want the return to be the same regardless of the asset's direction. Letting $\\Delta$ be the amount we have on the underlying asset:\n",
    "\n",
    "\n",
    "$\\begin{equation}\n",
    "S_0u\\Delta-f_u = S_0d\\Delta - f_d,\n",
    "\\end{equation}$\n",
    "\n",
    "or\n",
    "\n",
    "$\\begin{equation}\\label{Delta}\n",
    "\\Delta = \\dfrac{f_u  - f_d}{S_0u-S_0d}.\n",
    "\\end{equation}$\n",
    "\n",
    "By the non-arbitrage principle, the cost of building this portfolio must be equal to its final value discounted in time.\n",
    "\n",
    "Replacing $\\Delta$ and isolating $f$:\n",
    "\n",
    "$\\begin{equation}\n",
    "f = \\dfrac{f_u(1-de^{-rT})  - f_d(ue^{-rT}-1)}{u-d}\n",
    "\\end{equation}$\n",
    "\n",
    "that can be rewritten as\n",
    "\n",
    "$\\begin{equation}\n",
    "f = e^{-rT}[f_up  - f_d(1-p)],\n",
    "\\end{equation}$\n",
    "\n",
    "with\n",
    "\n",
    "$\\begin{equation}\n",
    "p = \\dfrac{e^{rT}  - d}{u-d}.\n",
    "\\end{equation}$"
   ]
  },
  {
   "cell_type": "code",
   "execution_count": 8,
   "id": "4a6e39af-2dbb-4f8e-8443-bf7244e63564",
   "metadata": {},
   "outputs": [],
   "source": [
    "def vanillaTree(S, K, T, N, sig, r, d, call=True):\n",
    "    \n",
    "    #N is the number of steps, we recall that as N goes to infinity\n",
    "    #the Binomial Tree converges to the continuous case, i.e., to the B&S solution.\n",
    "    tree = np.zeros((N+1,N+1))\n",
    "    dt = T/N\n",
    "    u = np.exp(sig*np.sqrt(dt))\n",
    "    d = 1/u\n",
    "    p = (np.exp(r*dt)-d)/(u-d)\n",
    "    \n",
    "    #Building the tree for the underlying asset\n",
    "    for j in range(N+1):\n",
    "        for i in range(j+1):\n",
    "            tree[i,j] = S*u**(j-i)*d**i\n",
    "\n",
    "    call = np.zeros((N+1,N+1))\n",
    "    call[:,N] = np.maximum(np.zeros(N+1),tree[:,N]-K)\n",
    "\n",
    "    #Building the tree for the option\n",
    "    for j in range(N-1,-1,-1):\n",
    "        for i in range(j+1):\n",
    "            call[i,j] = np.exp(-r*dt)*(p*call[i,j+1] + (1-p)*call[i+1,j+1])\n",
    "            \n",
    "    return call[0,0]"
   ]
  },
  {
   "cell_type": "markdown",
   "id": "3f1857ec-2b81-4180-9b2b-d464554c48c6",
   "metadata": {},
   "source": [
    "For the numerical solution, recall that the first assumption is that the price of the asset, $S$, follows a Geometric Brownian Motion:\n",
    "\n",
    "$\\begin{equation}\n",
    "dS = S\\mu dt + S\\sigma dX.\n",
    "\\end{equation}$\n",
    "\n",
    "Applying Itô's lemma to the function $\\ln(S)$, one gets:\n",
    "\n",
    "$\\begin{align}\n",
    "d\\ln(S) &= \\dfrac{1}{S}(S\\mu dt + S\\sigma dX)-\\dfrac{1}{2}\\sigma^2dt,\\\\\n",
    "&= (\\mu -\\dfrac{1}{2}\\sigma^2)dt+\\sigma dX.\n",
    "\\end{align}$\n",
    "\n",
    "Thus,\n",
    "\n",
    "$\\begin{equation}\n",
    "\\boxed{S(t) = S(0)e^{(\\mu -\\frac{1}{2}\\sigma^2)t+\\sigma (X(t)-X(0))}.}\n",
    "\\end{equation}$"
   ]
  },
  {
   "cell_type": "code",
   "execution_count": 9,
   "id": "6ae77644-e12d-42fd-ae9c-5d5c77f5abf6",
   "metadata": {},
   "outputs": [],
   "source": [
    "import numpy as np\n",
    "from scipy.stats import norm\n",
    "\n",
    "def vanillaMC(S, K, T, N, sig, r):\n",
    "    np.random.seed(42); dt = 0.1\n",
    "    W = np.random.randn(N,int(1/dt))*sig*np.sqrt(dt)\n",
    "    path = np.cumprod(np.exp((r-(sig**2)/2.0)*dt+W),1)*S\n",
    "    ST = path[:,-1]\n",
    "    return np.exp(-r*T)*np.maximum(ST-K,0).mean()"
   ]
  },
  {
   "cell_type": "code",
   "execution_count": 18,
   "id": "cc59c739-79f6-4baf-81d8-a6a29a5710c6",
   "metadata": {},
   "outputs": [
    {
     "name": "stdout",
     "output_type": "stream",
     "text": [
      "Analytical Solution: 9.925\n",
      "Binomial Tree: 9.915\n",
      "Numerical Solution: 9.918\n"
     ]
    }
   ],
   "source": [
    "#Driver's code\n",
    "S=100; K=100; T=1; N=200; sig=0.2; r=0.04; d=0; M=5_000_000;\n",
    "\n",
    "print(\"Analytical Solution: {:.4}\".format(vanillaBS(S,K,T,sig,r,call=True)))\n",
    "print(\"Binomial Tree: {:.4}\".format(vanillaTree(S,K,T,N,sig,r,d,call=True)))\n",
    "print(\"Numerical Solution: {:.4}\".format(vanillaMC(S,K,T,M,sig,r)))"
   ]
  }
 ],
 "metadata": {
  "kernelspec": {
   "display_name": "Python 3 (ipykernel)",
   "language": "python",
   "name": "python3"
  },
  "language_info": {
   "codemirror_mode": {
    "name": "ipython",
    "version": 3
   },
   "file_extension": ".py",
   "mimetype": "text/x-python",
   "name": "python",
   "nbconvert_exporter": "python",
   "pygments_lexer": "ipython3",
   "version": "3.8.8"
  }
 },
 "nbformat": 4,
 "nbformat_minor": 5
}
